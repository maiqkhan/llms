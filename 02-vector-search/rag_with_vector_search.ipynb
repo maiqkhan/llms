{
 "cells": [
  {
   "cell_type": "code",
   "execution_count": 3,
   "id": "b202a89e",
   "metadata": {},
   "outputs": [],
   "source": [
    "#import minsearch\n",
    "import json"
   ]
  },
  {
   "cell_type": "code",
   "execution_count": 4,
   "id": "530f4ce2",
   "metadata": {},
   "outputs": [],
   "source": [
    "with open('../01-intro/documents.json', 'rt') as f_in:\n",
    "    docs_raw = json.load(f_in)"
   ]
  },
  {
   "cell_type": "code",
   "execution_count": 5,
   "id": "102680ae",
   "metadata": {},
   "outputs": [],
   "source": [
    "documents = []\n",
    "\n",
    "for course_dict in docs_raw:\n",
    "    for doc in course_dict['documents']:\n",
    "        doc['course'] = course_dict['course']\n",
    "        documents.append(doc)"
   ]
  },
  {
   "cell_type": "markdown",
   "id": "dd29ad7b",
   "metadata": {},
   "source": [
    "### Index Documents - Archived"
   ]
  },
  {
   "cell_type": "code",
   "execution_count": 6,
   "id": "a2f0a21d",
   "metadata": {},
   "outputs": [],
   "source": [
    "# index = minsearch.Index(\n",
    "#         text_fields=[\"question\", \"text\", \"section\"],  #use for performant search, look for text that can help answer the question\n",
    "#         keyword_fields=[\"course\"]  #which documents to look in\n",
    "#         )\n",
    "\n",
    "# index.fit(documents)\n",
    "\n",
    "# boost = {\"question\": 3.0, \"section\": 0.5} # if a section of document has relevant terms, attirbute more importance to those sections. For example, question field is 3x more important than text field\n",
    "\n",
    "# results = index.search(\n",
    "#     query = q,\n",
    "#     boost_dict=boost,\n",
    "#     num_results = 5\n",
    "#     )\n",
    "\n",
    "# results_de_zoom = index.search(\n",
    "#     query=q,\n",
    "#     filter_dict={'course': 'data-engineering-zoomcamp'},\n",
    "#     boost_dict=boost,\n",
    "#     num_results = 5\n",
    "# )\n",
    "\n",
    "# results_de_zoom"
   ]
  },
  {
   "cell_type": "markdown",
   "id": "9fba7634",
   "metadata": {},
   "source": [
    "### Use GPT-4o model for generic response"
   ]
  },
  {
   "cell_type": "code",
   "execution_count": 7,
   "id": "bd9d3709",
   "metadata": {},
   "outputs": [],
   "source": [
    "from openai import OpenAI\n",
    "\n",
    "from dotenv import load_dotenv\n",
    "import os\n",
    "\n",
    "load_dotenv()\n",
    "api_key = os.getenv('API_KEY')"
   ]
  },
  {
   "cell_type": "code",
   "execution_count": 8,
   "id": "e07bcf79",
   "metadata": {},
   "outputs": [],
   "source": [
    "openai_client = OpenAI()"
   ]
  },
  {
   "cell_type": "markdown",
   "id": "25c60e24",
   "metadata": {},
   "source": [
    "### Use GPT-4o model for specific response"
   ]
  },
  {
   "cell_type": "markdown",
   "id": "3c715cb8",
   "metadata": {},
   "source": [
    "### Modularize the code"
   ]
  },
  {
   "cell_type": "code",
   "execution_count": 9,
   "id": "286ee810",
   "metadata": {},
   "outputs": [],
   "source": [
    "def build_prompt(query, search_results):\n",
    "    \n",
    "    context = \"\"\n",
    "    for doc in search_results: \n",
    "        context = context + f\"section: {doc['section']}\\nquestion: {doc['question']}\\nanswer: {doc['text']}\\n\\n\"\n",
    "    \n",
    "    \n",
    "    prompt = f\"\"\"\n",
    "You're a course teaching assistant. Answer the QUESTION based on the CONTEXT from the FAQ database. Use only the facts from the CONTEXT when answering the question.\n",
    "\n",
    "QUESTION: {query} \n",
    "\n",
    "CONTEXT: {context}\n",
    "\n",
    "\"\"\".strip()\n",
    "    \n",
    "    return prompt"
   ]
  },
  {
   "cell_type": "code",
   "execution_count": 10,
   "id": "94d9efce",
   "metadata": {},
   "outputs": [],
   "source": [
    "def llm(prompt):\n",
    "    response = openai_client.chat.completions.create(\n",
    "    model='gpt-4o-mini',\n",
    "    messages=[{\"role\": \"user\", \"content\": prompt}]\n",
    ")\n",
    "\n",
    "    return response.choices[0].message.content "
   ]
  },
  {
   "cell_type": "code",
   "execution_count": 22,
   "id": "b1eede41",
   "metadata": {},
   "outputs": [],
   "source": [
    "query = \"how do i run kafka?\"\n",
    "\n",
    "def rag(query):\n",
    "    search_results = search(query)\n",
    "    prompt = build_prompt(query=query, search_results=search_results )\n",
    "    return llm(prompt=prompt)"
   ]
  },
  {
   "cell_type": "markdown",
   "id": "696d9df7",
   "metadata": {},
   "source": [
    "### Using Vectorsearch"
   ]
  },
  {
   "cell_type": "code",
   "execution_count": 11,
   "id": "65ea9bbd",
   "metadata": {},
   "outputs": [
    {
     "name": "stderr",
     "output_type": "stream",
     "text": [
      "/workspaces/llms/venv/lib/python3.12/site-packages/tqdm/auto.py:21: TqdmWarning: IProgress not found. Please update jupyter and ipywidgets. See https://ipywidgets.readthedocs.io/en/stable/user_install.html\n",
      "  from .autonotebook import tqdm as notebook_tqdm\n"
     ]
    }
   ],
   "source": [
    "from qdrant_client import QdrantClient, models"
   ]
  },
  {
   "cell_type": "code",
   "execution_count": 12,
   "id": "9409f4c6",
   "metadata": {},
   "outputs": [],
   "source": [
    "qdrant_client = QdrantClient(\"http://localhost:6333\")"
   ]
  },
  {
   "cell_type": "code",
   "execution_count": 14,
   "id": "e84079a1",
   "metadata": {},
   "outputs": [],
   "source": [
    "EMBEDDING_DIMENSIONALITY = 512\n",
    "model_handle = \"jinaai/jina-embeddings-v2-small-en\"\n"
   ]
  },
  {
   "cell_type": "code",
   "execution_count": 15,
   "id": "5213ddc3",
   "metadata": {},
   "outputs": [
    {
     "data": {
      "text/plain": [
       "True"
      ]
     },
     "execution_count": 15,
     "metadata": {},
     "output_type": "execute_result"
    }
   ],
   "source": [
    "collection_name = \"zoomcamp-faq\"\n",
    "\n",
    "qdrant_client.create_collection(\n",
    "    collection_name=collection_name,\n",
    "    vectors_config=models.VectorParams(\n",
    "        size=EMBEDDING_DIMENSIONALITY,\n",
    "        distance=models.Distance.COSINE\n",
    "    )\n",
    ")"
   ]
  },
  {
   "cell_type": "code",
   "execution_count": 16,
   "id": "e2404ed9",
   "metadata": {},
   "outputs": [],
   "source": [
    "points = []\n",
    "id = 0\n",
    "\n",
    "for idx, doc in enumerate(documents):\n",
    "    text = doc['question'] + ' ' + doc['text']\n",
    "    vector = models.Document(text=text, model=model_handle)\n",
    "    point = models.PointStruct(\n",
    "        id = idx,\n",
    "        vector = vector, # embed text locally with jinaai from FastEmbed\n",
    "        payload = doc\n",
    "\n",
    "\n",
    "    )\n",
    "\n",
    "    points.append(point)"
   ]
  },
  {
   "cell_type": "code",
   "execution_count": 18,
   "id": "ac564e8a",
   "metadata": {},
   "outputs": [
    {
     "name": "stderr",
     "output_type": "stream",
     "text": [
      "Fetching 5 files: 100%|██████████| 5/5 [00:01<00:00,  3.63it/s]\n"
     ]
    },
    {
     "data": {
      "text/plain": [
       "UpdateResult(operation_id=0, status=<UpdateStatus.COMPLETED: 'completed'>)"
      ]
     },
     "execution_count": 18,
     "metadata": {},
     "output_type": "execute_result"
    }
   ],
   "source": [
    "qdrant_client.upsert(\n",
    "    collection_name=collection_name,\n",
    "    points=points\n",
    ")"
   ]
  },
  {
   "cell_type": "code",
   "execution_count": 19,
   "id": "2ce1addd",
   "metadata": {},
   "outputs": [
    {
     "data": {
      "text/plain": [
       "UpdateResult(operation_id=2, status=<UpdateStatus.COMPLETED: 'completed'>)"
      ]
     },
     "execution_count": 19,
     "metadata": {},
     "output_type": "execute_result"
    }
   ],
   "source": [
    "qdrant_client.create_payload_index(\n",
    "    collection_name=collection_name,\n",
    "    field_name=\"course\",\n",
    "    field_schema=\"keyword\" # exact matching on string metadata fields\n",
    "\n",
    ")"
   ]
  },
  {
   "cell_type": "code",
   "execution_count": 29,
   "id": "16889ede",
   "metadata": {},
   "outputs": [],
   "source": [
    "def vector_search_in_course(query, course=\"mlops-zoomcamp\", limit=1):\n",
    "    print('vector search is used')\n",
    "    results = qdrant_client.query_points(\n",
    "        collection_name=collection_name,\n",
    "        query=models.Document(\n",
    "            text=query,\n",
    "            model=model_handle\n",
    "        ),\n",
    "        query_filter=models.Filter(\n",
    "            must = [\n",
    "                models.FieldCondition(\n",
    "                    key=\"course\",\n",
    "                    match=models.MatchValue(value=course)\n",
    "                )\n",
    "            ]\n",
    "\n",
    "        ),\n",
    "        limit=limit,\n",
    "        with_payload=True\n",
    "\n",
    "    )\n",
    "\n",
    "    payload_results = []\n",
    "\n",
    "    for point in results.points:\n",
    "        payload_results.append(point.payload)\n",
    "\n",
    "    return payload_results"
   ]
  },
  {
   "cell_type": "code",
   "execution_count": 27,
   "id": "9b347c12",
   "metadata": {},
   "outputs": [],
   "source": [
    "def rag_vector(query, course = 'data-engineering-zoomcamp'):\n",
    "    search_results = vector_search_in_course(query, course)\n",
    "    prompt = build_prompt(query=query, search_results=search_results )\n",
    "    return llm(prompt=prompt)"
   ]
  },
  {
   "cell_type": "code",
   "execution_count": 30,
   "id": "604a04fc",
   "metadata": {},
   "outputs": [
    {
     "name": "stdout",
     "output_type": "stream",
     "text": [
      "vector search is used\n"
     ]
    },
    {
     "data": {
      "text/plain": [
       "'To run a Kafka producer in the terminal, navigate to the project directory and execute the following command:\\n\\n```\\njava -cp build/libs/<jar_name>-1.0-SNAPSHOT.jar:out src/main/java/org/example/JsonProducer.java\\n```'"
      ]
     },
     "execution_count": 30,
     "metadata": {},
     "output_type": "execute_result"
    }
   ],
   "source": [
    "query = 'how do i run kafka?'\n",
    "\n",
    "rag_vector(query=query)"
   ]
  },
  {
   "cell_type": "code",
   "execution_count": null,
   "id": "eaf8c6c4",
   "metadata": {},
   "outputs": [],
   "source": []
  }
 ],
 "metadata": {
  "kernelspec": {
   "display_name": "venv",
   "language": "python",
   "name": "python3"
  },
  "language_info": {
   "codemirror_mode": {
    "name": "ipython",
    "version": 3
   },
   "file_extension": ".py",
   "mimetype": "text/x-python",
   "name": "python",
   "nbconvert_exporter": "python",
   "pygments_lexer": "ipython3",
   "version": "3.12.1"
  }
 },
 "nbformat": 4,
 "nbformat_minor": 5
}
