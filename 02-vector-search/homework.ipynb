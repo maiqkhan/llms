{
 "cells": [
  {
   "cell_type": "markdown",
   "id": "213bef6c",
   "metadata": {},
   "source": [
    "### Embedding Queries"
   ]
  },
  {
   "cell_type": "code",
   "execution_count": 42,
   "id": "d1d29c03",
   "metadata": {},
   "outputs": [],
   "source": [
    "from fastembed import TextEmbedding\n",
    "import numpy as np\n",
    "from typing import List"
   ]
  },
  {
   "cell_type": "code",
   "execution_count": 30,
   "id": "bf58e168",
   "metadata": {},
   "outputs": [],
   "source": [
    "embedding_model = TextEmbedding(model_name=\"jinaai/jina-embeddings-v2-small-en\")"
   ]
  },
  {
   "cell_type": "code",
   "execution_count": null,
   "id": "fc3c0fce",
   "metadata": {},
   "outputs": [
    {
     "data": {
      "text/plain": [
       "512"
      ]
     },
     "execution_count": 31,
     "metadata": {},
     "output_type": "execute_result"
    }
   ],
   "source": [
    "documents: list[str] = [\n",
    "    'I just discovered the course. Can I join now?'\n",
    "]\n",
    "embeddings_generator = embedding_model.embed(documents)  # reminder this is a generator\n",
    "embeddings_list = list(embedding_model.embed(documents))\n",
    "  # you can also convert the generator to a list, and that to a numpy array\n",
    "len(embeddings_list[0]) # Vector of 512 dimensions"
   ]
  },
  {
   "cell_type": "code",
   "execution_count": 32,
   "id": "cf41da30",
   "metadata": {},
   "outputs": [
    {
     "data": {
      "text/plain": [
       "np.float64(-0.11726373885183883)"
      ]
     },
     "execution_count": 32,
     "metadata": {},
     "output_type": "execute_result"
    }
   ],
   "source": [
    "np.min(embeddings_list[0])"
   ]
  },
  {
   "cell_type": "markdown",
   "id": "6af41b12",
   "metadata": {},
   "source": [
    "### Cosine Similarity"
   ]
  },
  {
   "cell_type": "code",
   "execution_count": 33,
   "id": "0a56ce77",
   "metadata": {},
   "outputs": [
    {
     "data": {
      "text/plain": [
       "np.float64(1.0)"
      ]
     },
     "execution_count": 33,
     "metadata": {},
     "output_type": "execute_result"
    }
   ],
   "source": [
    "import numpy as np\n",
    "\n",
    "np.linalg.norm(embeddings_list[0])"
   ]
  },
  {
   "cell_type": "code",
   "execution_count": 34,
   "id": "17167671",
   "metadata": {},
   "outputs": [
    {
     "data": {
      "text/plain": [
       "np.float64(1.0000000000000002)"
      ]
     },
     "execution_count": 34,
     "metadata": {},
     "output_type": "execute_result"
    }
   ],
   "source": [
    "embeddings_list[0].dot(embeddings_list[0])"
   ]
  },
  {
   "cell_type": "code",
   "execution_count": 35,
   "id": "b0fd59e3",
   "metadata": {},
   "outputs": [
    {
     "data": {
      "text/plain": [
       "512"
      ]
     },
     "execution_count": 35,
     "metadata": {},
     "output_type": "execute_result"
    }
   ],
   "source": [
    "documents: list[str] = [\n",
    "    'Can I still join the course after the start date?'\n",
    "]\n",
    "embeddings_generator = embedding_model.embed(documents)  # reminder this is a generator\n",
    "embeddings_list_second_q = list(embedding_model.embed(documents))\n",
    "  # you can also convert the generator to a list, and that to a numpy array\n",
    "len(embeddings_list_second_q[0]) # Vector of 512 dimensions"
   ]
  },
  {
   "cell_type": "code",
   "execution_count": 37,
   "id": "26fb0233",
   "metadata": {},
   "outputs": [
    {
     "data": {
      "text/plain": [
       "np.float64(0.9008528895674548)"
      ]
     },
     "execution_count": 37,
     "metadata": {},
     "output_type": "execute_result"
    }
   ],
   "source": [
    "embeddings_list_second_q[0].dot(embeddings_list[0])"
   ]
  },
  {
   "cell_type": "markdown",
   "id": "83a150f7",
   "metadata": {},
   "source": [
    "### Ranking by Cosine"
   ]
  },
  {
   "cell_type": "code",
   "execution_count": 39,
   "id": "70bb23ff",
   "metadata": {},
   "outputs": [],
   "source": [
    "documents = [{'text': \"Yes, even if you don't register, you're still eligible to submit the homeworks.\\nBe aware, however, that there will be deadlines for turning in the final projects. So don't leave everything for the last minute.\",\n",
    "  'section': 'General course-related questions',\n",
    "  'question': 'Course - Can I still join the course after the start date?',\n",
    "  'course': 'data-engineering-zoomcamp'},\n",
    " {'text': 'Yes, we will keep all the materials after the course finishes, so you can follow the course at your own pace after it finishes.\\nYou can also continue looking at the homeworks and continue preparing for the next cohort. I guess you can also start working on your final capstone project.',\n",
    "  'section': 'General course-related questions',\n",
    "  'question': 'Course - Can I follow the course after it finishes?',\n",
    "  'course': 'data-engineering-zoomcamp'},\n",
    " {'text': \"The purpose of this document is to capture frequently asked technical questions\\nThe exact day and hour of the course will be 15th Jan 2024 at 17h00. The course will start with the first  “Office Hours'' live.1\\nSubscribe to course public Google Calendar (it works from Desktop only).\\nRegister before the course starts using this link.\\nJoin the course Telegram channel with announcements.\\nDon’t forget to register in DataTalks.Club's Slack and join the channel.\",\n",
    "  'section': 'General course-related questions',\n",
    "  'question': 'Course - When will the course start?',\n",
    "  'course': 'data-engineering-zoomcamp'},\n",
    " {'text': 'You can start by installing and setting up all the dependencies and requirements:\\nGoogle cloud account\\nGoogle Cloud SDK\\nPython 3 (installed with Anaconda)\\nTerraform\\nGit\\nLook over the prerequisites and syllabus to see if you are comfortable with these subjects.',\n",
    "  'section': 'General course-related questions',\n",
    "  'question': 'Course - What can I do before the course starts?',\n",
    "  'course': 'data-engineering-zoomcamp'},\n",
    " {'text': 'Star the repo! Share it with friends if you find it useful ❣️\\nCreate a PR if you see you can improve the text or the structure of the repository.',\n",
    "  'section': 'General course-related questions',\n",
    "  'question': 'How can we contribute to the course?',\n",
    "  'course': 'data-engineering-zoomcamp'}]"
   ]
  },
  {
   "cell_type": "code",
   "execution_count": 47,
   "id": "d50b19ec",
   "metadata": {},
   "outputs": [],
   "source": [
    "doc_text_lst = [doc['text'] for doc in documents]"
   ]
  },
  {
   "cell_type": "code",
   "execution_count": 50,
   "id": "be7d3e04",
   "metadata": {},
   "outputs": [],
   "source": [
    "def embed_text(document_list: List[str], embedding_model: TextEmbedding) -> List[np.ndarray]:\n",
    "    embeddings_list = list(embedding_model.embed(document_list))\n",
    "\n",
    "    return embeddings_list"
   ]
  },
  {
   "cell_type": "code",
   "execution_count": 53,
   "id": "0d18b84f",
   "metadata": {},
   "outputs": [],
   "source": [
    "doc_text_embeddings = embed_text(document_list=doc_text_lst, embedding_model=embedding_model)"
   ]
  },
  {
   "cell_type": "code",
   "execution_count": 62,
   "id": "0acca718",
   "metadata": {},
   "outputs": [],
   "source": [
    "cosine_sim_array = np.array(doc_text_embeddings).dot(query_embed)"
   ]
  },
  {
   "cell_type": "code",
   "execution_count": 71,
   "id": "6ce71344",
   "metadata": {},
   "outputs": [
    {
     "data": {
      "text/plain": [
       "(np.int64(1), np.float64(0.8182378150042889))"
      ]
     },
     "execution_count": 71,
     "metadata": {},
     "output_type": "execute_result"
    }
   ],
   "source": [
    "np.argmax(cosine_sim_array),  np.max(cosine_sim_array)"
   ]
  },
  {
   "cell_type": "markdown",
   "id": "fe0c4c27",
   "metadata": {},
   "source": [
    "### Ranking by Cosine V2"
   ]
  },
  {
   "cell_type": "code",
   "execution_count": null,
   "id": "8cc8243b",
   "metadata": {},
   "outputs": [],
   "source": [
    "full_text_lst = [doc['question'] + ' ' + doc['text'] for doc in documents]"
   ]
  },
  {
   "cell_type": "code",
   "execution_count": 66,
   "id": "cf519d08",
   "metadata": {},
   "outputs": [],
   "source": [
    "full_text_embeddings = embed_text(document_list=full_text_lst, embedding_model=embedding_model)"
   ]
  },
  {
   "cell_type": "code",
   "execution_count": 67,
   "id": "1f8caee0",
   "metadata": {},
   "outputs": [],
   "source": [
    "full_text_cosine_sim_array = np.array(full_text_embeddings).dot(query_embed)"
   ]
  },
  {
   "cell_type": "markdown",
   "id": "ff4b9625",
   "metadata": {},
   "source": [
    "The full text has more keywords that align with the query than just the text field. By adding the question into the embedding, the first document becomes much more similar to the query"
   ]
  },
  {
   "cell_type": "code",
   "execution_count": 70,
   "id": "4ff731ee",
   "metadata": {},
   "outputs": [
    {
     "data": {
      "text/plain": [
       "(np.int64(0), np.float64(0.8514543236908068))"
      ]
     },
     "execution_count": 70,
     "metadata": {},
     "output_type": "execute_result"
    }
   ],
   "source": [
    "np.argmax(full_text_cosine_sim_array), np.max(full_text_cosine_sim_array)"
   ]
  },
  {
   "cell_type": "markdown",
   "id": "68f516dc",
   "metadata": {},
   "source": [
    "### Embedding Model Selection"
   ]
  },
  {
   "cell_type": "code",
   "execution_count": 75,
   "id": "a671b887",
   "metadata": {},
   "outputs": [],
   "source": [
    "min_dim = 0\n",
    "\n",
    "for idx, model in enumerate(TextEmbedding.list_supported_models()):\n",
    "\n",
    "    if idx == 0:\n",
    "        min_dim = model['dim']\n",
    "        continue\n",
    "\n",
    "    if model['dim'] < min_dim:\n",
    "        min_dim = model['dim']\n"
   ]
  },
  {
   "cell_type": "code",
   "execution_count": 76,
   "id": "358a556b",
   "metadata": {},
   "outputs": [
    {
     "name": "stdout",
     "output_type": "stream",
     "text": [
      "384\n"
     ]
    }
   ],
   "source": [
    "print(min_dim)"
   ]
  },
  {
   "cell_type": "markdown",
   "id": "8200aef9",
   "metadata": {},
   "source": [
    "#### Indexing with Qdrant"
   ]
  },
  {
   "cell_type": "code",
   "execution_count": 77,
   "id": "f08b3c9c",
   "metadata": {},
   "outputs": [],
   "source": [
    "import requests \n",
    "\n",
    "docs_url = 'https://github.com/alexeygrigorev/llm-rag-workshop/raw/main/notebooks/documents.json'\n",
    "docs_response = requests.get(docs_url)\n",
    "documents_raw = docs_response.json()\n",
    "\n",
    "\n",
    "documents = []\n",
    "\n",
    "for course in documents_raw:\n",
    "    course_name = course['course']\n",
    "    if course_name != 'machine-learning-zoomcamp':\n",
    "        continue\n",
    "\n",
    "    for doc in course['documents']:\n",
    "        doc['course'] = course_name\n",
    "        documents.append(doc)"
   ]
  },
  {
   "cell_type": "code",
   "execution_count": 78,
   "id": "f8412f7f",
   "metadata": {},
   "outputs": [],
   "source": [
    "from qdrant_client import QdrantClient, models\n",
    "\n",
    "qdrant_client = QdrantClient(\"http://localhost:6333\")"
   ]
  },
  {
   "cell_type": "code",
   "execution_count": 79,
   "id": "4e08b606",
   "metadata": {},
   "outputs": [],
   "source": [
    "model_handle = \"BAAI/bge-small-en\""
   ]
  },
  {
   "cell_type": "code",
   "execution_count": 88,
   "id": "cae07d36",
   "metadata": {},
   "outputs": [
    {
     "data": {
      "text/plain": [
       "True"
      ]
     },
     "execution_count": 88,
     "metadata": {},
     "output_type": "execute_result"
    }
   ],
   "source": [
    "qdrant_client.create_collection(\n",
    "    collection_name = \"mlzoopcamp-rag\",\n",
    "    vectors_config=models.VectorParams(\n",
    "        size=384,\n",
    "        distance=models.Distance.COSINE\n",
    "    )\n",
    "    \n",
    ")"
   ]
  },
  {
   "cell_type": "code",
   "execution_count": 89,
   "id": "0cbdea45",
   "metadata": {},
   "outputs": [
    {
     "data": {
      "text/plain": [
       "UpdateResult(operation_id=0, status=<UpdateStatus.COMPLETED: 'completed'>)"
      ]
     },
     "execution_count": 89,
     "metadata": {},
     "output_type": "execute_result"
    }
   ],
   "source": [
    "import uuid \n",
    "\n",
    "qdrant_client.upsert(\n",
    "    collection_name = \"mlzoopcamp-rag\",\n",
    "    points=[\n",
    "        models.PointStruct(\n",
    "            id=uuid.uuid4().hex,\n",
    "            vector = models.Document(\n",
    "                    text=doc['question'] + ' ' + doc['text'],\n",
    "                    model=model_handle,\n",
    "                ),\n",
    "            payload={\n",
    "                \"text\": doc['question'] + ' ' + doc['text'],\n",
    "                \"section\": doc[\"section\"],\n",
    "                \"course\": course[\"course\"]\n",
    "            }\n",
    "        )\n",
    "       \n",
    "        for doc in documents\n",
    "    ]\n",
    ")"
   ]
  },
  {
   "cell_type": "code",
   "execution_count": 91,
   "id": "3c33f8c6",
   "metadata": {},
   "outputs": [],
   "source": [
    "def search(query, limit=3):\n",
    "\n",
    "    results = qdrant_client.query_points(\n",
    "        collection_name=\"mlzoopcamp-rag\",\n",
    "        query=models.Document( # embed the query text locally with jinaai\n",
    "            text=query,\n",
    "            model=model_handle\n",
    "\n",
    "        ),\n",
    "        limit=limit,  # top closest matches\n",
    "        with_payload=True # to get metadata in the results\n",
    "\n",
    "    )\n",
    "\n",
    "    return results"
   ]
  },
  {
   "cell_type": "code",
   "execution_count": 93,
   "id": "3a620923",
   "metadata": {},
   "outputs": [],
   "source": [
    "results = search(\"I just discovered the course. Can I join now?\")"
   ]
  },
  {
   "cell_type": "code",
   "execution_count": 110,
   "id": "6eb14df7",
   "metadata": {},
   "outputs": [
    {
     "data": {
      "text/plain": [
       "0.8703172"
      ]
     },
     "execution_count": 110,
     "metadata": {},
     "output_type": "execute_result"
    }
   ],
   "source": [
    "results.points[0].score"
   ]
  }
 ],
 "metadata": {
  "kernelspec": {
   "display_name": "venv",
   "language": "python",
   "name": "python3"
  },
  "language_info": {
   "codemirror_mode": {
    "name": "ipython",
    "version": 3
   },
   "file_extension": ".py",
   "mimetype": "text/x-python",
   "name": "python",
   "nbconvert_exporter": "python",
   "pygments_lexer": "ipython3",
   "version": "3.12.1"
  }
 },
 "nbformat": 4,
 "nbformat_minor": 5
}
