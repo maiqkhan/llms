{
 "cells": [
  {
   "cell_type": "code",
   "execution_count": 1,
   "id": "affb2795-103e-4c8e-8aec-21f25d4f3bff",
   "metadata": {},
   "outputs": [],
   "source": [
    "from openai import OpenAI"
   ]
  },
  {
   "cell_type": "code",
   "execution_count": 5,
   "id": "05135ae4-d931-4d96-85e7-e96f7575fc31",
   "metadata": {},
   "outputs": [],
   "source": [
    "client = OpenAI()"
   ]
  },
  {
   "cell_type": "code",
   "execution_count": 8,
   "id": "2a777e1f-5e8c-4b84-9224-47cbc9e199d5",
   "metadata": {},
   "outputs": [],
   "source": [
    "response = client.chat.completions.create(\n",
    "    model='gpt-4o',\n",
    "    messages = [{\"role\": \"user\", \"content\": \"is it too late to join the course?\"}]\n",
    ")"
   ]
  },
  {
   "cell_type": "code",
   "execution_count": 10,
   "id": "3bb2af33-89bb-48de-80f7-867953908381",
   "metadata": {},
   "outputs": [
    {
     "data": {
      "text/plain": [
       "[Choice(finish_reason='stop', index=0, logprobs=None, message=ChatCompletionMessage(content=\"I would need more context to give a specific answer. If you're referring to a course with a fixed schedule or enrollment period, you should check the course details to see if the enrollment deadline has passed. If it's a self-paced online course, you might be able to join at any time. It's best to contact the course provider or institution for the most accurate information.\", refusal=None, role='assistant', annotations=[], audio=None, function_call=None, tool_calls=None))]"
      ]
     },
     "execution_count": 10,
     "metadata": {},
     "output_type": "execute_result"
    }
   ],
   "source": [
    "response.choices"
   ]
  },
  {
   "cell_type": "code",
   "execution_count": null,
   "id": "6d765d46-1c25-47f7-bef3-cbefbc3cc01f",
   "metadata": {},
   "outputs": [],
   "source": []
  }
 ],
 "metadata": {
  "kernelspec": {
   "display_name": "venv",
   "language": "python",
   "name": "python3"
  },
  "language_info": {
   "codemirror_mode": {
    "name": "ipython",
    "version": 3
   },
   "file_extension": ".py",
   "mimetype": "text/x-python",
   "name": "python",
   "nbconvert_exporter": "python",
   "pygments_lexer": "ipython3",
   "version": "3.12.1"
  }
 },
 "nbformat": 4,
 "nbformat_minor": 5
}
