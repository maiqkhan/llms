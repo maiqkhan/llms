{
 "cells": [
  {
   "cell_type": "markdown",
   "id": "abfa4de2",
   "metadata": {},
   "source": [
    "#### LLM Introduction"
   ]
  },
  {
   "cell_type": "code",
   "execution_count": 66,
   "id": "9d2507f2",
   "metadata": {},
   "outputs": [],
   "source": [
    "import json\n",
    "from tqdm import tqdm\n",
    "from typing import Optional\n",
    "from tiktoken import encoding_for_model"
   ]
  },
  {
   "cell_type": "code",
   "execution_count": 4,
   "id": "2c8f529b",
   "metadata": {},
   "outputs": [],
   "source": [
    "with open('../documents.json', 'rt') as f_in:\n",
    "    docs_raw = json.load(f_in)"
   ]
  },
  {
   "cell_type": "code",
   "execution_count": 6,
   "id": "d2ec62fe",
   "metadata": {},
   "outputs": [],
   "source": [
    "documents = []\n",
    "\n",
    "for course_dict in docs_raw:\n",
    "    for doc in course_dict['documents']:\n",
    "        doc['course'] = course_dict['course']\n",
    "        documents.append(doc)"
   ]
  },
  {
   "cell_type": "markdown",
   "id": "9918ebcb",
   "metadata": {},
   "source": [
    "##### Index Data"
   ]
  },
  {
   "cell_type": "code",
   "execution_count": 8,
   "id": "4289a640",
   "metadata": {},
   "outputs": [],
   "source": [
    "from elasticsearch import Elasticsearch\n",
    "\n",
    "es_client = Elasticsearch('http://localhost:9200')"
   ]
  },
  {
   "cell_type": "code",
   "execution_count": 10,
   "id": "97880ca0",
   "metadata": {},
   "outputs": [
    {
     "data": {
      "text/plain": [
       "{'text': \"The purpose of this document is to capture frequently asked technical questions\\nThe exact day and hour of the course will be 15th Jan 2024 at 17h00. The course will start with the first  “Office Hours'' live.1\\nSubscribe to course public Google Calendar (it works from Desktop only).\\nRegister before the course starts using this link.\\nJoin the course Telegram channel with announcements.\\nDon’t forget to register in DataTalks.Club's Slack and join the channel.\",\n",
       " 'section': 'General course-related questions',\n",
       " 'question': 'Course - When will the course start?',\n",
       " 'course': 'data-engineering-zoomcamp'}"
      ]
     },
     "execution_count": 10,
     "metadata": {},
     "output_type": "execute_result"
    }
   ],
   "source": [
    "documents[0]"
   ]
  },
  {
   "cell_type": "code",
   "execution_count": 11,
   "id": "7929e97c",
   "metadata": {},
   "outputs": [
    {
     "data": {
      "text/plain": [
       "ObjectApiResponse({'acknowledged': True, 'shards_acknowledged': True, 'index': 'course-questions'})"
      ]
     },
     "execution_count": 11,
     "metadata": {},
     "output_type": "execute_result"
    }
   ],
   "source": [
    "index_settings = {\n",
    "    \"settings\": {\n",
    "        \"number_of_shards\": 1,\n",
    "        \"number_of_replicas\": 0\n",
    "    },\n",
    "    \"mappings\": {\n",
    "        \"properties\": {\n",
    "            \"text\": {\"type\": \"text\"},\n",
    "            \"section\": {\"type\": \"text\"},\n",
    "            \"question\": {\"type\": \"text\"},\n",
    "            \"course\": {\"type\": \"keyword\"}  ### Make the field a keyword to query on\n",
    "        }\n",
    "    }\n",
    "}\n",
    "\n",
    "index_name = \"course-questions\"\n",
    "\n",
    "es_client.indices.create(index=index_name, body=index_settings)\n"
   ]
  },
  {
   "cell_type": "code",
   "execution_count": 15,
   "id": "a45b523f",
   "metadata": {},
   "outputs": [
    {
     "name": "stderr",
     "output_type": "stream",
     "text": [
      "  0%|          | 0/948 [00:00<?, ?it/s]"
     ]
    },
    {
     "name": "stderr",
     "output_type": "stream",
     "text": [
      "100%|██████████| 948/948 [00:04<00:00, 200.00it/s]\n"
     ]
    }
   ],
   "source": [
    "for doc in tqdm(documents):\n",
    "    es_client.index(index=index_name, document=doc) # create a record in the index for each document"
   ]
  },
  {
   "cell_type": "markdown",
   "id": "8aba5849",
   "metadata": {},
   "source": [
    "#### Search the index"
   ]
  },
  {
   "cell_type": "code",
   "execution_count": null,
   "id": "c1865b2a",
   "metadata": {},
   "outputs": [],
   "source": []
  },
  {
   "cell_type": "code",
   "execution_count": 50,
   "id": "45161ba1",
   "metadata": {},
   "outputs": [],
   "source": [
    "def elastic_search(query: str, course_filter: Optional[str] = None, n_results: int = 1):\n",
    "    if course_filter:\n",
    "        search_query = {\n",
    "            \"size\": n_results, #how many index records to return\n",
    "            \"query\": {\n",
    "                \"bool\": {\n",
    "                    \"must\": {\n",
    "                        \"multi_match\": {\n",
    "                            \"query\": query,\n",
    "                            \"fields\": [\"question^4\", \"text\"], #boost is determined by exponent \"^\"\n",
    "                            \"type\": \"best_fields\"\n",
    "                        }\n",
    "                    },\n",
    "                    \"filter\": {\n",
    "                        \"term\": {\n",
    "                            \"course\": \"machine-learning-zoomcamp\"\n",
    "                        }\n",
    "                    }\n",
    "                }\n",
    "            }\n",
    "        }\n",
    "\n",
    "    else:\n",
    "        search_query = {\n",
    "            \"size\": n_results, #how many index records to return\n",
    "            \"query\": {\n",
    "                \"bool\": {\n",
    "                    \"must\": {\n",
    "                        \"multi_match\": {\n",
    "                            \"query\": query,\n",
    "                            \"fields\": [\"question^4\", \"text\"], #boost is determined by exponent \"^\"\n",
    "                            \"type\": \"best_fields\"\n",
    "                        }\n",
    "                    },\n",
    "                }\n",
    "            }\n",
    "        }\n",
    "        \n",
    "    response = es_client.search(index=index_name, body=search_query) #search the index for relevant documents based on search settings\n",
    "\n",
    "    result_docs = []\n",
    "    for hit in response['hits']['hits']:\n",
    "        source_dict = hit['_source']\n",
    "        source_dict['score'] = hit['_score']\n",
    "        result_docs.append(hit['_source'])\n",
    "\n",
    "    return result_docs\n",
    "\n"
   ]
  },
  {
   "cell_type": "code",
   "execution_count": 54,
   "id": "4ffa0a46",
   "metadata": {},
   "outputs": [
    {
     "data": {
      "text/plain": [
       "[{'text': 'Problem description:\\nI started a web-server in terminal (command window, powershell, etc.). How can I run another python script, which makes a request to this server?\\nSolution description:\\nJust open another terminal (command window, powershell, etc.) and run a python script.\\nAlena Kniazeva',\n",
       "  'section': '5. Deploying Machine Learning Models',\n",
       "  'question': 'How to run a script while a web-server is working?',\n",
       "  'course': 'machine-learning-zoomcamp',\n",
       "  'score': 38.491016}]"
      ]
     },
     "execution_count": 54,
     "metadata": {},
     "output_type": "execute_result"
    }
   ],
   "source": [
    "question_query = 'How to execute a command on a Kubernetes pod?'\n",
    "elastic_search(query=question_query)"
   ]
  },
  {
   "cell_type": "code",
   "execution_count": 62,
   "id": "75a5a636",
   "metadata": {},
   "outputs": [],
   "source": [
    "# Filtering\n",
    "question_query = \"How do copy a file to a Docker container?\"\n",
    "docker_question_search_results =  elastic_search(query=question_query, course_filter=\"machine-learning-zoomcamp\", n_results= 3)"
   ]
  },
  {
   "cell_type": "markdown",
   "id": "b5ca0807",
   "metadata": {},
   "source": [
    "#### Building a Prompt"
   ]
  },
  {
   "cell_type": "code",
   "execution_count": 63,
   "id": "3ec717e5",
   "metadata": {},
   "outputs": [],
   "source": [
    "def build_prompt(query, search_results):\n",
    "    \n",
    "    context = \"\"\n",
    "    for doc in search_results: \n",
    "        context = context + f\"section: {doc['section']}\\nquestion: {doc['question']}\\nanswer: {doc['text']}\\n\\n\"\n",
    "    \n",
    "    \n",
    "    prompt = f\"\"\"\n",
    "    You're a course teaching assistant. Answer the QUESTION based on the CONTEXT from the FAQ database. Use only the facts from the CONTEXT when answering the question.\n",
    "\n",
    "    QUESTION: {query} \n",
    "\n",
    "    CONTEXT: {context}\n",
    "\n",
    "    \"\"\".strip()\n",
    "    \n",
    "    return prompt"
   ]
  },
  {
   "cell_type": "code",
   "execution_count": 64,
   "id": "61517ec9",
   "metadata": {},
   "outputs": [],
   "source": [
    "question_query = \"How do copy a file to a Docker container?\"\n",
    "docker_prompt = build_prompt(query=question_query, search_results=docker_question_search_results)"
   ]
  },
  {
   "cell_type": "code",
   "execution_count": 65,
   "id": "f7a48ea8",
   "metadata": {},
   "outputs": [
    {
     "data": {
      "text/plain": [
       "1629"
      ]
     },
     "execution_count": 65,
     "metadata": {},
     "output_type": "execute_result"
    }
   ],
   "source": [
    "len(docker_prompt)"
   ]
  },
  {
   "cell_type": "markdown",
   "id": "66965fe0",
   "metadata": {},
   "source": [
    "#### Prompting using tokens"
   ]
  },
  {
   "cell_type": "code",
   "execution_count": 67,
   "id": "0ada8db3",
   "metadata": {},
   "outputs": [],
   "source": [
    "encoding = encoding_for_model('gpt-4o')"
   ]
  },
  {
   "cell_type": "code",
   "execution_count": 71,
   "id": "e9448b48",
   "metadata": {},
   "outputs": [
    {
     "data": {
      "text/plain": [
       "356"
      ]
     },
     "execution_count": 71,
     "metadata": {},
     "output_type": "execute_result"
    }
   ],
   "source": [
    "token_lst = encoding.encode(docker_prompt)\n",
    "len(token_lst)"
   ]
  },
  {
   "cell_type": "code",
   "execution_count": 72,
   "id": "bcc82f38",
   "metadata": {},
   "outputs": [
    {
     "data": {
      "text/plain": [
       "b\"You're\""
      ]
     },
     "execution_count": 72,
     "metadata": {},
     "output_type": "execute_result"
    }
   ],
   "source": [
    "encoding.decode_single_token_bytes(63842)"
   ]
  },
  {
   "cell_type": "markdown",
   "id": "5aee06bc",
   "metadata": {},
   "source": [
    "### Send the prompt to openAI"
   ]
  },
  {
   "cell_type": "code",
   "execution_count": 75,
   "id": "f47a0139",
   "metadata": {},
   "outputs": [],
   "source": [
    "from dotenv import load_dotenv\n",
    "import os\n",
    "from openai import OpenAI\n",
    "\n",
    "load_dotenv()\n",
    "api_key = os.getenv('API_KEY')"
   ]
  },
  {
   "cell_type": "code",
   "execution_count": 76,
   "id": "771f8e30",
   "metadata": {},
   "outputs": [],
   "source": [
    "client = OpenAI()"
   ]
  },
  {
   "cell_type": "code",
   "execution_count": 77,
   "id": "fd981973",
   "metadata": {},
   "outputs": [
    {
     "name": "stdout",
     "output_type": "stream",
     "text": [
      "You can copy a file to a Docker container using the `docker cp` command. The basic syntax is as follows:\n",
      "\n",
      "```bash\n",
      "docker cp /path/to/local/file_or_directory container_id:/path/in/container\n",
      "```\n"
     ]
    }
   ],
   "source": [
    "response = client.chat.completions.create(\n",
    "    model='gpt-4o',\n",
    "    messages=[{\"role\": \"user\", \"content\": docker_prompt}]\n",
    ")\n",
    "\n",
    "print(response.choices[0].message.content)"
   ]
  },
  {
   "cell_type": "markdown",
   "id": "7e8fe797",
   "metadata": {},
   "source": [
    "#### Calculate the cost"
   ]
  },
  {
   "cell_type": "code",
   "execution_count": 78,
   "id": "563b319d",
   "metadata": {},
   "outputs": [
    {
     "name": "stdout",
     "output_type": "stream",
     "text": [
      "0.00244\n"
     ]
    }
   ],
   "source": [
    "input_tokens = len(encoding.encode(docker_prompt))\n",
    "output_tokens = len(encoding.encode(response.choices[0].message.content))\n",
    "\n",
    "input_price_per_1k_tokens = 0.005\n",
    "output_price_per_1k_tokens = 0.015\n",
    "\n",
    "price = input_tokens / 1_000 * input_price_per_1k_tokens + output_tokens / 1_000 * output_price_per_1k_tokens\n",
    "\n",
    "print(price)"
   ]
  }
 ],
 "metadata": {
  "kernelspec": {
   "display_name": "venv",
   "language": "python",
   "name": "python3"
  },
  "language_info": {
   "codemirror_mode": {
    "name": "ipython",
    "version": 3
   },
   "file_extension": ".py",
   "mimetype": "text/x-python",
   "name": "python",
   "nbconvert_exporter": "python",
   "pygments_lexer": "ipython3",
   "version": "3.12.1"
  }
 },
 "nbformat": 4,
 "nbformat_minor": 5
}
